{
 "cells": [
  {
   "cell_type": "markdown",
   "metadata": {},
   "source": [
    "# Pre-processing Script for OWID COVID-19 Data"
   ]
  },
  {
   "cell_type": "markdown",
   "metadata": {},
   "source": [
    "## Updated: 2020-12-04"
   ]
  },
  {
   "cell_type": "markdown",
   "metadata": {},
   "source": [
    "Set up notebook"
   ]
  },
  {
   "cell_type": "code",
   "execution_count": null,
   "metadata": {},
   "outputs": [],
   "source": [
    "import datetime\n",
    "import numpy as np\n",
    "import pandas as pd"
   ]
  },
  {
   "cell_type": "markdown",
   "metadata": {},
   "source": [
    "Pull data and convert date field, handle null values"
   ]
  },
  {
   "cell_type": "code",
   "execution_count": null,
   "metadata": {},
   "outputs": [],
   "source": [
    "url = 'https://raw.githubusercontent.com/lyseiau/covid-19-data/master/public/data/owid-covid-data.csv'\n",
    "df = pd.read_csv(url, error_bad_lines=False)\n",
    "df['date']= pd.to_datetime(df['date']) \n",
    "df = df.fillna(0)"
   ]
  },
  {
   "cell_type": "markdown",
   "metadata": {},
   "source": [
    "Drop calculate metrics"
   ]
  },
  {
   "cell_type": "code",
   "execution_count": null,
   "metadata": {},
   "outputs": [],
   "source": [
    "df = df.drop(['new_cases_smoothed',\n",
    "'new_deaths_smoothed',\n",
    "'total_cases_per_million',\n",
    "'new_cases_per_million',\n",
    "'new_cases_smoothed_per_million',\n",
    "'total_deaths_per_million',\n",
    "'new_deaths_per_million',\n",
    "'new_deaths_smoothed_per_million',\n",
    "'icu_patients_per_million',\n",
    "'hosp_patients_per_million',\n",
    "'weekly_icu_admissions_per_million',\n",
    "'weekly_hosp_admissions_per_million',\n",
    "'total_tests_per_thousand',\n",
    "'new_tests_per_thousand',\n",
    "'new_tests_smoothed',\n",
    "'new_tests_smoothed_per_thousand',\n",
    "'hospital_beds_per_thousand'], axis=1)\n",
    "df = df.drop(df[df.location.isin(['World', 'International'])].index)"
   ]
  },
  {
   "cell_type": "markdown",
   "metadata": {},
   "source": [
    "Check data types"
   ]
  },
  {
   "cell_type": "code",
   "execution_count": null,
   "metadata": {},
   "outputs": [],
   "source": [
    "df.info()"
   ]
  },
  {
   "cell_type": "markdown",
   "metadata": {},
   "source": [
    "Export dataset to excel"
   ]
  },
  {
   "cell_type": "code",
   "execution_count": null,
   "metadata": {},
   "outputs": [],
   "source": [
    "df.to_excel('intl.xlsx', index=False)"
   ]
  }
 ],
 "metadata": {
  "kernelspec": {
   "display_name": "Python 3",
   "language": "python",
   "name": "python3"
  },
  "language_info": {
   "codemirror_mode": {
    "name": "ipython",
    "version": 3
   },
   "file_extension": ".py",
   "mimetype": "text/x-python",
   "name": "python",
   "nbconvert_exporter": "python",
   "pygments_lexer": "ipython3",
   "version": "3.8.5"
  }
 },
 "nbformat": 4,
 "nbformat_minor": 4
}
